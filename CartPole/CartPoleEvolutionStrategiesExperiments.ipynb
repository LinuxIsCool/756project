{
 "cells": [
  {
   "cell_type": "code",
   "execution_count": 25,
   "metadata": {},
   "outputs": [
    {
     "name": "stdout",
     "output_type": "stream",
     "text": [
      "The autoreload extension is already loaded. To reload it, use:\n",
      "  %reload_ext autoreload\n"
     ]
    }
   ],
   "source": [
    "%load_ext autoreload\n",
    "%autoreload 2\n",
    "%matplotlib inline\n",
    "from Experiment import CartPoleES\n",
    "from matplotlib import pyplot as plt"
   ]
  },
  {
   "cell_type": "code",
   "execution_count": 23,
   "metadata": {
    "scrolled": false
   },
   "outputs": [
    {
     "name": "stdout",
     "output_type": "stream",
     "text": [
      "Gen:  0 | Generation Time: 2.007181603999925 | Fitness: 25.1\n",
      "\n",
      "Gen:  1 | Generation Time: 1.7214609999937238 | Fitness: 18.6\n",
      "\n",
      "Gen:  2 | Generation Time: 1.8715291039989097 | Fitness: 21.4\n",
      "\n",
      "Gen:  3 | Generation Time: 1.6058513099997072 | Fitness: 22.6\n",
      "\n",
      "Gen:  4 | Generation Time: 1.6570573339995462 | Fitness: 17.3\n",
      "\n",
      "Gen:  5 | Generation Time: 1.7224224600067828 | Fitness: 24.6\n",
      "\n",
      "Gen:  6 | Generation Time: 1.5486545610037865 | Fitness: 18.4\n",
      "\n",
      "Gen:  7 | Generation Time: 1.5926492680009687 | Fitness: 22.2\n",
      "\n",
      "Gen:  8 | Generation Time: 1.5751290680054808 | Fitness: 16.0\n",
      "\n",
      "Gen:  9 | Generation Time: 1.701063513995905 | Fitness: 24.4\n",
      "\n",
      "Gen:  10 | Generation Time: 1.6701757300033933 | Fitness: 22.1\n",
      "\n",
      "Gen:  11 | Generation Time: 1.81260577699868 | Fitness: 30.2\n",
      "\n",
      "Gen:  12 | Generation Time: 1.633850859994709 | Fitness: 18.8\n",
      "\n",
      "Gen:  13 | Generation Time: 1.6240493959994637 | Fitness: 19.2\n",
      "\n",
      "Gen:  14 | Generation Time: 1.6387499539996497 | Fitness: 16.0\n",
      "\n",
      "Gen:  15 | Generation Time: 1.7745322679984383 | Fitness: 20.2\n",
      "\n",
      "Gen:  16 | Generation Time: 1.5575933319996693 | Fitness: 19.3\n",
      "\n",
      "Gen:  17 | Generation Time: 1.6902506639962667 | Fitness: 19.1\n",
      "\n",
      "Gen:  18 | Generation Time: 1.9036607500020182 | Fitness: 22.2\n",
      "\n",
      "Gen:  19 | Generation Time: 1.730555762995209 | Fitness: 26.4\n",
      "\n",
      "Gen:  20 | Generation Time: 1.6028480629975093 | Fitness: 18.7\n",
      "\n",
      "Gen:  21 | Generation Time: 1.6482026559970109 | Fitness: 23.5\n",
      "\n",
      "Gen:  22 | Generation Time: 1.8499415769983898 | Fitness: 33.9\n",
      "\n",
      "Gen:  23 | Generation Time: 1.6685881910016178 | Fitness: 18.8\n",
      "\n",
      "Gen:  24 | Generation Time: 1.7912175149976974 | Fitness: 20.9\n",
      "\n",
      "Gen:  25 | Generation Time: 1.6577879210017272 | Fitness: 21.4\n",
      "\n",
      "Gen:  26 | Generation Time: 1.913342018997355 | Fitness: 26.3\n",
      "\n",
      "Gen:  27 | Generation Time: 1.8013165529991966 | Fitness: 19.1\n",
      "\n",
      "Gen:  28 | Generation Time: 1.8361555709998356 | Fitness: 19.3\n",
      "\n",
      "Gen:  29 | Generation Time: 1.864951513998676 | Fitness: 18.9\n",
      "\n",
      "Gen:  30 | Generation Time: 1.9276397960056784 | Fitness: 18.9\n",
      "\n",
      "Gen:  31 | Generation Time: 1.7024444089984172 | Fitness: 17.6\n",
      "\n",
      "Gen:  32 | Generation Time: 1.7973980319948168 | Fitness: 19.0\n",
      "\n",
      "Gen:  33 | Generation Time: 1.764624270996137 | Fitness: 26.2\n",
      "\n",
      "Gen:  34 | Generation Time: 1.8602684910001699 | Fitness: 28.6\n",
      "\n",
      "Gen:  35 | Generation Time: 2.289924600001541 | Fitness: 38.0\n",
      "\n",
      "Gen:  36 | Generation Time: 1.7779298829991603 | Fitness: 33.6\n",
      "\n",
      "Gen:  37 | Generation Time: 2.3595549589954317 | Fitness: 29.8\n",
      "\n",
      "Gen:  38 | Generation Time: 2.046528135004337 | Fitness: 38.8\n",
      "\n",
      "Gen:  39 | Generation Time: 2.1101533840046613 | Fitness: 31.6\n",
      "\n",
      "Gen:  40 | Generation Time: 2.0852185629992164 | Fitness: 38.4\n",
      "\n",
      "Gen:  41 | Generation Time: 2.2489766650032834 | Fitness: 40.6\n",
      "\n",
      "Gen:  42 | Generation Time: 2.388351164001506 | Fitness: 37.0\n",
      "\n",
      "Gen:  43 | Generation Time: 1.878652011997474 | Fitness: 40.2\n",
      "\n",
      "Gen:  44 | Generation Time: 2.2031589439939125 | Fitness: 39.0\n",
      "\n",
      "Gen:  45 | Generation Time: 2.1780242530003306 | Fitness: 48.2\n",
      "\n",
      "Gen:  46 | Generation Time: 2.250410519001889 | Fitness: 54.3\n",
      "\n",
      "Gen:  47 | Generation Time: 2.3000068350011134 | Fitness: 52.5\n",
      "\n",
      "Gen:  48 | Generation Time: 3.061199181996926 | Fitness: 64.8\n",
      "\n",
      "Gen:  49 | Generation Time: 2.961263108001731 | Fitness: 81.1\n",
      "\n",
      "Gen:  50 | Generation Time: 2.8678413270026795 | Fitness: 98.1\n",
      "\n",
      "Convergence Reached after 51 Generations, in 142.099887655997 seconds.\n",
      "Gen:  0 | Generation Time: 2.383007145996089 | Fitness: 41.2\n",
      "\n",
      "Gen:  1 | Generation Time: 1.9748648370004958 | Fitness: 39.1\n",
      "\n",
      "Gen:  2 | Generation Time: 2.01947454099718 | Fitness: 42.1\n",
      "\n",
      "Gen:  3 | Generation Time: 1.8647746949936845 | Fitness: 29.0\n",
      "\n",
      "Gen:  4 | Generation Time: 2.150909338997735 | Fitness: 41.7\n",
      "\n",
      "Gen:  5 | Generation Time: 1.8893646340002306 | Fitness: 36.7\n",
      "\n",
      "Gen:  6 | Generation Time: 1.897389400000975 | Fitness: 33.6\n",
      "\n",
      "Gen:  7 | Generation Time: 2.067619047003973 | Fitness: 50.9\n",
      "\n",
      "Gen:  8 | Generation Time: 1.8060907930048415 | Fitness: 33.3\n",
      "\n",
      "Gen:  9 | Generation Time: 2.1618553759981296 | Fitness: 33.7\n",
      "\n",
      "Gen:  10 | Generation Time: 2.024814971999149 | Fitness: 42.2\n",
      "\n",
      "Gen:  11 | Generation Time: 1.9539380810019793 | Fitness: 50.0\n",
      "\n",
      "Gen:  12 | Generation Time: 2.0461232119996566 | Fitness: 68.6\n",
      "\n",
      "Gen:  13 | Generation Time: 2.154088765993947 | Fitness: 46.7\n",
      "\n",
      "Gen:  14 | Generation Time: 1.8028523390021292 | Fitness: 60.0\n",
      "\n",
      "Gen:  15 | Generation Time: 2.0326535789936315 | Fitness: 44.8\n",
      "\n",
      "Gen:  16 | Generation Time: 2.057163268000295 | Fitness: 69.5\n",
      "\n",
      "Gen:  17 | Generation Time: 1.9094582319958135 | Fitness: 49.9\n",
      "\n",
      "Gen:  18 | Generation Time: 2.241080113002681 | Fitness: 85.7\n",
      "\n",
      "Convergence Reached after 19 Generations, in 59.84986781900079 seconds.\n"
     ]
    }
   ],
   "source": [
    "experiment = CartPoleES(max_generations=60, convergence_reward=50)\n",
    "history = experiment.train(num_tests=2)"
   ]
  },
  {
   "cell_type": "code",
   "execution_count": 24,
   "metadata": {},
   "outputs": [
    {
     "data": {
      "text/plain": [
       "{'wall_time': 142.099887655997,\n",
       " 'fitness_history': [25.099999999999998,\n",
       "  18.6,\n",
       "  21.4,\n",
       "  22.599999999999998,\n",
       "  17.3,\n",
       "  24.599999999999998,\n",
       "  18.400000000000002,\n",
       "  22.200000000000003,\n",
       "  16.0,\n",
       "  24.4,\n",
       "  22.099999999999998,\n",
       "  30.2,\n",
       "  18.8,\n",
       "  19.200000000000003,\n",
       "  16.0,\n",
       "  20.2,\n",
       "  19.3,\n",
       "  19.1,\n",
       "  22.2,\n",
       "  26.4,\n",
       "  18.7,\n",
       "  23.500000000000004,\n",
       "  33.9,\n",
       "  18.8,\n",
       "  20.9,\n",
       "  21.400000000000002,\n",
       "  26.300000000000004,\n",
       "  19.1,\n",
       "  19.3,\n",
       "  18.9,\n",
       "  18.900000000000002,\n",
       "  17.6,\n",
       "  19.0,\n",
       "  26.2,\n",
       "  28.600000000000005,\n",
       "  38.0,\n",
       "  33.6,\n",
       "  29.8,\n",
       "  38.8,\n",
       "  31.599999999999998,\n",
       "  38.4,\n",
       "  40.6,\n",
       "  37.0,\n",
       "  40.2,\n",
       "  39.0,\n",
       "  48.199999999999996,\n",
       "  54.300000000000004,\n",
       "  52.50000000000001,\n",
       "  64.8,\n",
       "  81.1,\n",
       "  98.1],\n",
       " 'total_generations': 51,\n",
       " 'generation_times': [],\n",
       " 'total_trials': 10200,\n",
       " 'total_steps': 166440,\n",
       " 'converged': True,\n",
       " 'test_id': 0}"
      ]
     },
     "execution_count": 24,
     "metadata": {},
     "output_type": "execute_result"
    }
   ],
   "source": [
    "history[0]"
   ]
  },
  {
   "cell_type": "code",
   "execution_count": 30,
   "metadata": {},
   "outputs": [
    {
     "data": {
      "text/plain": [
       "[<matplotlib.lines.Line2D at 0x7f2c1fd98550>]"
      ]
     },
     "execution_count": 30,
     "metadata": {},
     "output_type": "execute_result"
    },
    {
     "data": {
      "image/png": "[encoded data removed]",
      "text/plain": [
       "<Figure size 432x288 with 1 Axes>"
      ]
     },
     "metadata": {},
     "output_type": "display_data"
    }
   ],
   "source": [
    "plt.plot(history[0]['fitness_history'])"
   ]
  },
  {
   "cell_type": "code",
   "execution_count": 31,
   "metadata": {},
   "outputs": [
    {
     "data": {
      "text/plain": [
       "[<matplotlib.lines.Line2D at 0x7f2c1fd69ba8>]"
      ]
     },
     "execution_count": 31,
     "metadata": {},
     "output_type": "execute_result"
    },
    {
     "data": {
      "image/png": "[encoded data removed]",
      "text/plain": [
       "<Figure size 432x288 with 1 Axes>"
      ]
     },
     "metadata": {},
     "output_type": "display_data"
    }
   ],
   "source": [
    "plt.plot(history[1]['fitness_history'])"
   ]
  },
  {
   "cell_type": "code",
   "execution_count": null,
   "metadata": {},
   "outputs": [],
   "source": []
  }
 ],
 "metadata": {
  "kernelspec": {
   "display_name": "Python 3",
   "language": "python",
   "name": "python3"
  },
  "language_info": {
   "codemirror_mode": {
    "name": "ipython",
    "version": 3
   },
   "file_extension": ".py",
   "mimetype": "text/x-python",
   "name": "python",
   "nbconvert_exporter": "python",
   "pygments_lexer": "ipython3",
   "version": "3.6.3"
  }
 },
 "nbformat": 4,
 "nbformat_minor": 2
}
